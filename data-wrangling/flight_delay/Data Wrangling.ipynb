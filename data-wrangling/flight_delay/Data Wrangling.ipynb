{
 "cells": [
  {
   "cell_type": "code",
   "execution_count": 1,
   "metadata": {},
   "outputs": [],
   "source": [
    "# Import necessary libraries\n",
    "import weather \n",
    "import wrangling\n",
    "import integrity\n",
    "import numpy as np\n",
    "import pandas as pd\n",
    "import matplotlib.pyplot as pp"
   ]
  },
  {
   "cell_type": "code",
   "execution_count": 2,
   "metadata": {},
   "outputs": [
    {
     "name": "stdout",
     "output_type": "stream",
     "text": [
      "Browsing the website...\n",
      "Downloading...\n",
      "Downloading files is completed\n"
     ]
    }
   ],
   "source": [
    "date_start = '2018-01' #YYYY-MM format\n",
    "date_end = '2018-12' #YYYY-MM format\n",
    "path, parent_path = wrangling.acquire(date_start, date_end) # Web-scraping with selenium\n",
    "wrangling.combine_csv(path, parent_path) # Shell script to concatenate csv files"
   ]
  },
  {
   "cell_type": "code",
   "execution_count": 3,
   "metadata": {},
   "outputs": [
    {
     "name": "stdout",
     "output_type": "stream",
     "text": [
      "2018.csv is imported\n",
      "All csv files are concatenated\n",
      "Number of rows in dataframe is 7213446\n"
     ]
    }
   ],
   "source": [
    "df, airport, icao, n, d = wrangling.import_csv(path, date_start, date_end) # Import all csv files\n",
    "rows = len(df)\n",
    "print('Number of rows in dataframe is {}'.format(rows)) # Initial number of rows"
   ]
  },
  {
   "cell_type": "code",
   "execution_count": 5,
   "metadata": {},
   "outputs": [
    {
     "name": "stdout",
     "output_type": "stream",
     "text": [
      "Initial check is completed\n"
     ]
    }
   ],
   "source": [
    "df, airport, flag, date_flag = wrangling.init_check(\n",
    "    df, airport, date_start, date_end, d) # Initial check for columns"
   ]
  },
  {
   "cell_type": "code",
   "execution_count": 6,
   "metadata": {},
   "outputs": [
    {
     "name": "stdout",
     "output_type": "stream",
     "text": [
      "Recovering data has completed in 226.65 seconds\n"
     ]
    }
   ],
   "source": [
    "df = wrangling.recover(df, airport, flag, date_flag, n, d) # Impute data as much as possible"
   ]
  },
  {
   "cell_type": "code",
   "execution_count": 7,
   "metadata": {},
   "outputs": [
    {
     "name": "stdout",
     "output_type": "stream",
     "text": [
      "WeekDay column passed check\n",
      "IATA column passed check\n",
      "TailNum column passed check\n",
      "FlightNum column passed check\n",
      "OrgAirID column passed check\n",
      "OrgMarID column passed check\n",
      "DestAirID column passed check\n",
      "DestMarID column passed check\n",
      "ScDepTime column passed check\n",
      "***A flight(s) is/are scheduled later than ScArrTime***\n",
      "DepTime column passed check (1/2)\n",
      "DepTime column passed check (2/2)\n",
      "WhOff column passed check\n",
      "TxO column passed check (1/2)\n",
      "TxO column passed check (2/2)\n",
      "ScArrTime column passed check\n",
      "ArrTime column passed check (1/2)\n",
      "ArrTime column passed check (2/2)\n",
      "WhOn column passed check\n",
      "TxI column passed check (1/2)\n",
      "TxI column passed check (2/2)\n",
      "Cncl column passed check (1/2)\n",
      "Div column passed check (1/2)\n",
      "***Some flights are both diverted and cancelled***\n",
      "***CnclCd column is not consistent with Cncl column***\n",
      "ScElaTime column passed check (1/2)\n",
      "***ScElaTime is not equal to ScArrTime - ScDepTime - TimeZoneDiff***\n",
      "***AcElaTime has null entries other than cancelled/diverted flights***\n",
      "***AcElaTime is not equal to ArrTime - DepTime - TimeZoneDiff***\n",
      "***AirTime has null entries other than cancelled/diverted flights***\n",
      "***AirTime is not equal to WhOn - WhOff - TimeZoneDiff***\n"
     ]
    }
   ],
   "source": [
    "integrity.check(df) # Integrity check, mostly for timestamp columns"
   ]
  },
  {
   "cell_type": "markdown",
   "metadata": {},
   "source": [
    "Integrity check function raised few warnings, written three between asterisks, that need attention to fix. We will go through each alert one by one. First, we start with Scheduled Arrival Time is earlier than Scheduled Departure Time."
   ]
  },
  {
   "cell_type": "code",
   "execution_count": 8,
   "metadata": {},
   "outputs": [
    {
     "data": {
      "image/png": "[encoded data removed]",
      "text/plain": [
       "<Figure size 432x288 with 1 Axes>"
      ]
     },
     "metadata": {
      "needs_background": "light"
     },
     "output_type": "display_data"
    }
   ],
   "source": [
    "data = df[(df.ScDepTime > df.ScArrTime)]\n",
    "_ = pp.hist(data.Dist, bins=np.linspace(data.Dist.min(), data.Dist.max(), 50), density=True)\n",
    "_ = pp.xlabel('Distance (miles)')"
   ]
  },
  {
   "cell_type": "code",
   "execution_count": 9,
   "metadata": {},
   "outputs": [
    {
     "data": {
      "image/png": "[encoded data removed]",
      "text/plain": [
       "<Figure size 432x288 with 1 Axes>"
      ]
     },
     "metadata": {
      "needs_background": "light"
     },
     "output_type": "display_data"
    }
   ],
   "source": [
    "_ = pp.plot(data.Dist, -1 * data.TimeZoneDiff.astype('timedelta64[m]') / 60, 'r.')\n",
    "_ = pp.xlabel('Distance (miles)')\n",
    "_ = pp.ylabel('TimeZone Difference (hr)')"
   ]
  },
  {
   "cell_type": "markdown",
   "metadata": {},
   "source": [
    "As it can be seen in the figure above, the distances of all flights that satisfy the condition, arrival time is earlier than departure time, is around 200 miles except one particular flight which is approximately 1400 miles. So, we remove that flight from our record."
   ]
  },
  {
   "cell_type": "code",
   "execution_count": 10,
   "metadata": {},
   "outputs": [
    {
     "data": {
      "text/html": [
       "<div>\n",
       "<style scoped>\n",
       "    .dataframe tbody tr th:only-of-type {\n",
       "        vertical-align: middle;\n",
       "    }\n",
       "\n",
       "    .dataframe tbody tr th {\n",
       "        vertical-align: top;\n",
       "    }\n",
       "\n",
       "    .dataframe thead th {\n",
       "        text-align: right;\n",
       "    }\n",
       "</style>\n",
       "<table border=\"1\" class=\"dataframe\">\n",
       "  <thead>\n",
       "    <tr style=\"text-align: right;\">\n",
       "      <th></th>\n",
       "      <th>ScDepTime</th>\n",
       "      <th>DepTime</th>\n",
       "      <th>DepDelay</th>\n",
       "      <th>TxO</th>\n",
       "      <th>WhOff</th>\n",
       "      <th>WhOn</th>\n",
       "      <th>TxI</th>\n",
       "      <th>ScArrTime</th>\n",
       "      <th>ArrTime</th>\n",
       "      <th>ArrDelay</th>\n",
       "      <th>...</th>\n",
       "      <th>ScElaTime</th>\n",
       "      <th>AcElaTime</th>\n",
       "      <th>AirTime</th>\n",
       "      <th>Dist</th>\n",
       "      <th>CarrDel</th>\n",
       "      <th>WeaDel</th>\n",
       "      <th>NASDel</th>\n",
       "      <th>SecDel</th>\n",
       "      <th>LatAirDel</th>\n",
       "      <th>TimeZoneDiff</th>\n",
       "    </tr>\n",
       "  </thead>\n",
       "  <tbody>\n",
       "    <tr>\n",
       "      <th>797803</th>\n",
       "      <td>2018-10-27 17:20:00</td>\n",
       "      <td>2018-10-27 17:18:00</td>\n",
       "      <td>-1 days +23:58:00</td>\n",
       "      <td>00:13:00</td>\n",
       "      <td>2018-10-27 17:31:00</td>\n",
       "      <td>2018-10-27 18:56:00</td>\n",
       "      <td>00:06:00</td>\n",
       "      <td>2018-10-27 17:18:00</td>\n",
       "      <td>2018-10-27 19:02:00</td>\n",
       "      <td>01:44:00</td>\n",
       "      <td>...</td>\n",
       "      <td>01:58:00</td>\n",
       "      <td>03:44:00</td>\n",
       "      <td>03:25:00</td>\n",
       "      <td>1433</td>\n",
       "      <td>0</td>\n",
       "      <td>0</td>\n",
       "      <td>104</td>\n",
       "      <td>0</td>\n",
       "      <td>0</td>\n",
       "      <td>-1 days +22:00:00</td>\n",
       "    </tr>\n",
       "  </tbody>\n",
       "</table>\n",
       "<p>1 rows × 23 columns</p>\n",
       "</div>"
      ],
      "text/plain": [
       "                 ScDepTime             DepTime          DepDelay      TxO  \\\n",
       "797803 2018-10-27 17:20:00 2018-10-27 17:18:00 -1 days +23:58:00 00:13:00   \n",
       "\n",
       "                     WhOff                WhOn      TxI           ScArrTime  \\\n",
       "797803 2018-10-27 17:31:00 2018-10-27 18:56:00 00:06:00 2018-10-27 17:18:00   \n",
       "\n",
       "                   ArrTime ArrDelay  ...  ScElaTime AcElaTime  AirTime  Dist  \\\n",
       "797803 2018-10-27 19:02:00 01:44:00  ...   01:58:00  03:44:00 03:25:00  1433   \n",
       "\n",
       "       CarrDel WeaDel  NASDel  SecDel  LatAirDel      TimeZoneDiff  \n",
       "797803       0      0     104       0          0 -1 days +22:00:00  \n",
       "\n",
       "[1 rows x 23 columns]"
      ]
     },
     "execution_count": 10,
     "metadata": {},
     "output_type": "execute_result"
    }
   ],
   "source": [
    "idx = data[data.Dist == data.Dist.max()].index.values[0]\n",
    "data[data.Dist == data.Dist.max()].iloc[:, range(8,31)]"
   ]
  },
  {
   "cell_type": "code",
   "execution_count": 11,
   "metadata": {},
   "outputs": [],
   "source": [
    "df.drop(idx, inplace=True)"
   ]
  },
  {
   "cell_type": "code",
   "execution_count": 12,
   "metadata": {},
   "outputs": [
    {
     "name": "stdout",
     "output_type": "stream",
     "text": [
      "102053 102055\n"
     ]
    },
    {
     "data": {
      "text/html": [
       "<div>\n",
       "<style scoped>\n",
       "    .dataframe tbody tr th:only-of-type {\n",
       "        vertical-align: middle;\n",
       "    }\n",
       "\n",
       "    .dataframe tbody tr th {\n",
       "        vertical-align: top;\n",
       "    }\n",
       "\n",
       "    .dataframe thead th {\n",
       "        text-align: right;\n",
       "    }\n",
       "</style>\n",
       "<table border=\"1\" class=\"dataframe\">\n",
       "  <thead>\n",
       "    <tr style=\"text-align: right;\">\n",
       "      <th></th>\n",
       "      <th>WeekDay</th>\n",
       "      <th>IATA</th>\n",
       "      <th>TailNum</th>\n",
       "      <th>FlightNum</th>\n",
       "      <th>OrgAirID</th>\n",
       "      <th>OrgMarID</th>\n",
       "      <th>DestAirID</th>\n",
       "      <th>DestMarID</th>\n",
       "      <th>ScDepTime</th>\n",
       "      <th>DepTime</th>\n",
       "      <th>...</th>\n",
       "      <th>ScElaTime</th>\n",
       "      <th>AcElaTime</th>\n",
       "      <th>AirTime</th>\n",
       "      <th>Dist</th>\n",
       "      <th>CarrDel</th>\n",
       "      <th>WeaDel</th>\n",
       "      <th>NASDel</th>\n",
       "      <th>SecDel</th>\n",
       "      <th>LatAirDel</th>\n",
       "      <th>TimeZoneDiff</th>\n",
       "    </tr>\n",
       "  </thead>\n",
       "  <tbody>\n",
       "    <tr>\n",
       "      <th>2887851</th>\n",
       "      <td>3</td>\n",
       "      <td>F9</td>\n",
       "      <td>N309FR</td>\n",
       "      <td>874</td>\n",
       "      <td>14027</td>\n",
       "      <td>34027</td>\n",
       "      <td>15356</td>\n",
       "      <td>35356</td>\n",
       "      <td>2018-03-21 17:42:00</td>\n",
       "      <td>NaT</td>\n",
       "      <td>...</td>\n",
       "      <td>02:39:00</td>\n",
       "      <td>NaT</td>\n",
       "      <td>NaT</td>\n",
       "      <td>985</td>\n",
       "      <td>0</td>\n",
       "      <td>0</td>\n",
       "      <td>0</td>\n",
       "      <td>0</td>\n",
       "      <td>0</td>\n",
       "      <td>00:00:00</td>\n",
       "    </tr>\n",
       "    <tr>\n",
       "      <th>4374927</th>\n",
       "      <td>7</td>\n",
       "      <td>YV</td>\n",
       "      <td>N85354</td>\n",
       "      <td>6345</td>\n",
       "      <td>12451</td>\n",
       "      <td>31136</td>\n",
       "      <td>12266</td>\n",
       "      <td>31453</td>\n",
       "      <td>2018-05-20 15:55:00</td>\n",
       "      <td>NaT</td>\n",
       "      <td>...</td>\n",
       "      <td>02:40:00</td>\n",
       "      <td>NaT</td>\n",
       "      <td>NaT</td>\n",
       "      <td>817</td>\n",
       "      <td>0</td>\n",
       "      <td>0</td>\n",
       "      <td>0</td>\n",
       "      <td>0</td>\n",
       "      <td>0</td>\n",
       "      <td>-1 days +23:00:00</td>\n",
       "    </tr>\n",
       "  </tbody>\n",
       "</table>\n",
       "<p>2 rows × 31 columns</p>\n",
       "</div>"
      ],
      "text/plain": [
       "         WeekDay IATA TailNum  FlightNum  OrgAirID  OrgMarID  DestAirID  \\\n",
       "2887851        3   F9  N309FR        874     14027     34027      15356   \n",
       "4374927        7   YV  N85354       6345     12451     31136      12266   \n",
       "\n",
       "         DestMarID           ScDepTime DepTime  ... ScElaTime AcElaTime  \\\n",
       "2887851      35356 2018-03-21 17:42:00     NaT  ...  02:39:00       NaT   \n",
       "4374927      31453 2018-05-20 15:55:00     NaT  ...  02:40:00       NaT   \n",
       "\n",
       "        AirTime Dist CarrDel WeaDel NASDel SecDel  LatAirDel      TimeZoneDiff  \n",
       "2887851     NaT  985       0      0      0      0          0          00:00:00  \n",
       "4374927     NaT  817       0      0      0      0          0 -1 days +23:00:00  \n",
       "\n",
       "[2 rows x 31 columns]"
      ]
     },
     "execution_count": 12,
     "metadata": {},
     "output_type": "execute_result"
    }
   ],
   "source": [
    "print(df[(df.CnclCd != 0)].shape[0], df[df.Cncl == 1].shape[0]) \n",
    "df[(df.Cncl == 1) & (df.CnclCd == 0)]"
   ]
  },
  {
   "cell_type": "markdown",
   "metadata": {},
   "source": [
    "There seems to be two flights whose cancellation code column is not consistent with cancel column. Those two records are also removed."
   ]
  },
  {
   "cell_type": "code",
   "execution_count": 13,
   "metadata": {},
   "outputs": [],
   "source": [
    "df.drop(df[(df.Cncl == 1) & (df.CnclCd == 0)].index.values, inplace=True)"
   ]
  },
  {
   "cell_type": "code",
   "execution_count": 14,
   "metadata": {},
   "outputs": [
    {
     "data": {
      "image/png": "[encoded data removed]",
      "text/plain": [
       "<Figure size 432x288 with 1 Axes>"
      ]
     },
     "metadata": {
      "needs_background": "light"
     },
     "output_type": "display_data"
    }
   ],
   "source": [
    "mask = (df.ScArrTime - df.ScDepTime - df.TimeZoneDiff - df.ScElaTime)\n",
    "cond = (mask != pd.Timedelta('0 hours'))\n",
    "x = df.loc[cond, 'ScArrTime'] - df.loc[cond, 'ScDepTime'] - df.loc[cond, 'TimeZoneDiff']\n",
    "y = df.loc[cond, 'ScElaTime']\n",
    "_ = pp.plot(x.astype('timedelta64[m]')/60, y.astype('timedelta64[m]')/60, 'r.', np.array([0, 12]), np.array([0,12]), 'k-')\n",
    "_ = pp.xlabel('Calculated Scheduled Elapsed Time (hr)')\n",
    "_ = pp.ylabel('Scheduled Elapsed Time (hr)')"
   ]
  },
  {
   "cell_type": "markdown",
   "metadata": {},
   "source": [
    "Many data points are 1 hour off from 1:1 line, black straight line. The reason why there data points are 1 hour away from black line is because time zone difference column does not account for day light savings time. For example, Arizona state does not use day light savings time whereas other states do. So, to solve this problem, we update data points where it is only 1 hour off from 1:1 line. The outliers on the left and right side of the figure are coming from an airport located at Guam Island where it is over international date line. We also removed any flights from/to Guam Island."
   ]
  },
  {
   "cell_type": "code",
   "execution_count": 15,
   "metadata": {},
   "outputs": [],
   "source": [
    "# Drop any flights from/to Guam Island, since international day line is passed\n",
    "idx = df[(df.OrgAirID == 12016) | (df.DestAirID == 12016)].index\n",
    "df.drop(idx, inplace=True)"
   ]
  },
  {
   "cell_type": "code",
   "execution_count": 16,
   "metadata": {},
   "outputs": [
    {
     "data": {
      "image/png": "[encoded data removed]",
      "text/plain": [
       "<Figure size 432x288 with 1 Axes>"
      ]
     },
     "metadata": {
      "needs_background": "light"
     },
     "output_type": "display_data"
    }
   ],
   "source": [
    "cond = cond & (mask.abs() == pd.Timedelta('1 hours'))\n",
    "df.loc[cond, 'TimeZoneDiff'] = df.loc[cond, 'ScArrTime'] - df.loc[cond, 'ScDepTime'] - df.loc[cond, 'ScElaTime']\n",
    "mask = (df.ScArrTime - df.ScDepTime - df.TimeZoneDiff - df.ScElaTime)\n",
    "cond = (mask != pd.Timedelta('0 hours'))\n",
    "x = df.loc[cond, 'ScArrTime'] - df.loc[cond, 'ScDepTime'] - df.loc[cond, 'TimeZoneDiff']\n",
    "y = df.loc[cond, 'ScElaTime']\n",
    "_ = pp.plot(x.astype('timedelta64[m]')/60, y.astype('timedelta64[m]')/60, 'r.', np.array([0, 12]), np.array([0,12]), 'k-')\n",
    "_ = pp.xlabel('Calculated Scheduled Elapsed Time (hr)')\n",
    "_ = pp.ylabel('Scheduled Elapsed Time (hr)')"
   ]
  },
  {
   "cell_type": "code",
   "execution_count": 17,
   "metadata": {},
   "outputs": [],
   "source": [
    "df.drop(x.index, inplace=True)"
   ]
  },
  {
   "cell_type": "code",
   "execution_count": 18,
   "metadata": {},
   "outputs": [
    {
     "name": "stdout",
     "output_type": "stream",
     "text": [
      "WeekDay column passed check\n",
      "IATA column passed check\n",
      "TailNum column passed check\n",
      "FlightNum column passed check\n",
      "OrgAirID column passed check\n",
      "OrgMarID column passed check\n",
      "DestAirID column passed check\n",
      "DestMarID column passed check\n",
      "ScDepTime column passed check\n",
      "***A flight(s) is/are scheduled later than ScArrTime***\n",
      "DepTime column passed check (1/2)\n",
      "DepTime column passed check (2/2)\n",
      "WhOff column passed check\n",
      "TxO column passed check (1/2)\n",
      "TxO column passed check (2/2)\n",
      "ScArrTime column passed check\n",
      "ArrTime column passed check (1/2)\n",
      "ArrTime column passed check (2/2)\n",
      "WhOn column passed check\n",
      "TxI column passed check (1/2)\n",
      "TxI column passed check (2/2)\n",
      "Cncl column passed check (1/2)\n",
      "Div column passed check (1/2)\n",
      "Cncl/Div columns passed check (2/2)\n",
      "CnclCd column passed check\n",
      "ScElaTime column passed check (1/2)\n",
      "ScElaTime column passed check (2/2)\n",
      "***AcElaTime has null entries other than cancelled/diverted flights***\n",
      "***AcElaTime is not equal to ArrTime - DepTime - TimeZoneDiff***\n",
      "***AirTime has null entries other than cancelled/diverted flights***\n",
      "***AirTime is not equal to WhOn - WhOff - TimeZoneDiff***\n"
     ]
    }
   ],
   "source": [
    "integrity.check(df)"
   ]
  },
  {
   "cell_type": "code",
   "execution_count": 19,
   "metadata": {},
   "outputs": [
    {
     "data": {
      "text/html": [
       "<div>\n",
       "<style scoped>\n",
       "    .dataframe tbody tr th:only-of-type {\n",
       "        vertical-align: middle;\n",
       "    }\n",
       "\n",
       "    .dataframe tbody tr th {\n",
       "        vertical-align: top;\n",
       "    }\n",
       "\n",
       "    .dataframe thead th {\n",
       "        text-align: right;\n",
       "    }\n",
       "</style>\n",
       "<table border=\"1\" class=\"dataframe\">\n",
       "  <thead>\n",
       "    <tr style=\"text-align: right;\">\n",
       "      <th></th>\n",
       "      <th>WeekDay</th>\n",
       "      <th>IATA</th>\n",
       "      <th>TailNum</th>\n",
       "      <th>FlightNum</th>\n",
       "      <th>OrgAirID</th>\n",
       "      <th>OrgMarID</th>\n",
       "      <th>DestAirID</th>\n",
       "      <th>DestMarID</th>\n",
       "      <th>ScDepTime</th>\n",
       "      <th>DepTime</th>\n",
       "      <th>...</th>\n",
       "      <th>ScElaTime</th>\n",
       "      <th>AcElaTime</th>\n",
       "      <th>AirTime</th>\n",
       "      <th>Dist</th>\n",
       "      <th>CarrDel</th>\n",
       "      <th>WeaDel</th>\n",
       "      <th>NASDel</th>\n",
       "      <th>SecDel</th>\n",
       "      <th>LatAirDel</th>\n",
       "      <th>TimeZoneDiff</th>\n",
       "    </tr>\n",
       "  </thead>\n",
       "  <tbody>\n",
       "    <tr>\n",
       "      <th>3207896</th>\n",
       "      <td>4</td>\n",
       "      <td>YX</td>\n",
       "      <td>N880RW</td>\n",
       "      <td>6103</td>\n",
       "      <td>12953</td>\n",
       "      <td>31703</td>\n",
       "      <td>11298</td>\n",
       "      <td>30194</td>\n",
       "      <td>2018-03-01 09:55:00</td>\n",
       "      <td>2018-03-01 09:52:00</td>\n",
       "      <td>...</td>\n",
       "      <td>04:31:00</td>\n",
       "      <td>NaT</td>\n",
       "      <td>NaT</td>\n",
       "      <td>1389</td>\n",
       "      <td>0</td>\n",
       "      <td>0</td>\n",
       "      <td>0</td>\n",
       "      <td>0</td>\n",
       "      <td>0</td>\n",
       "      <td>-1 days +23:00:00</td>\n",
       "    </tr>\n",
       "  </tbody>\n",
       "</table>\n",
       "<p>1 rows × 31 columns</p>\n",
       "</div>"
      ],
      "text/plain": [
       "         WeekDay IATA TailNum  FlightNum  OrgAirID  OrgMarID  DestAirID  \\\n",
       "3207896        4   YX  N880RW       6103     12953     31703      11298   \n",
       "\n",
       "         DestMarID           ScDepTime             DepTime  ... ScElaTime  \\\n",
       "3207896      30194 2018-03-01 09:55:00 2018-03-01 09:52:00  ...  04:31:00   \n",
       "\n",
       "        AcElaTime AirTime  Dist CarrDel WeaDel NASDel SecDel  LatAirDel  \\\n",
       "3207896       NaT     NaT  1389       0      0      0      0          0   \n",
       "\n",
       "             TimeZoneDiff  \n",
       "3207896 -1 days +23:00:00  \n",
       "\n",
       "[1 rows x 31 columns]"
      ]
     },
     "execution_count": 19,
     "metadata": {},
     "output_type": "execute_result"
    }
   ],
   "source": [
    "df[(df.AcElaTime.isnull()) & (df.Cncl == 0) & (df.Div == 0)]"
   ]
  },
  {
   "cell_type": "markdown",
   "metadata": {},
   "source": [
    "Actual Elapsed Time column has a null entry(ies) when a flight(s) is not cancelled or diverted. This is odd. That's why we are removing this flight as well."
   ]
  },
  {
   "cell_type": "code",
   "execution_count": 20,
   "metadata": {},
   "outputs": [],
   "source": [
    "df.drop(df[(df.AcElaTime.isnull()) & (df.Cncl == 0) & (df.Div == 0)].index, inplace=True)"
   ]
  },
  {
   "cell_type": "code",
   "execution_count": 21,
   "metadata": {},
   "outputs": [
    {
     "data": {
      "image/png": "[encoded data removed]",
      "text/plain": [
       "<Figure size 432x288 with 1 Axes>"
      ]
     },
     "metadata": {
      "needs_background": "light"
     },
     "output_type": "display_data"
    }
   ],
   "source": [
    "mask = (df.ArrTime - df.DepTime - df.TimeZoneDiff - df.AcElaTime)\n",
    "cond = (mask != pd.Timedelta('0 hours')) & (df.Cncl == 0) & (df.Div == 0)\n",
    "x = df.loc[cond, 'ArrTime'] - df.loc[cond, 'DepTime'] - df.loc[cond, 'TimeZoneDiff']\n",
    "y = df.loc[cond, 'AcElaTime']\n",
    "_ = pp.plot(x.astype('timedelta64[m]')/60, y.astype('timedelta64[m]')/60, 'r.', np.array([0, 12]), np.array([0,12]), 'k-')\n",
    "_ = pp.xlabel('Calculated Elapsed Time')\n",
    "_ = pp.ylabel('Actual Elapsed Time')"
   ]
  },
  {
   "cell_type": "code",
   "execution_count": 22,
   "metadata": {},
   "outputs": [
    {
     "data": {
      "text/plain": [
       "2646031   01:16:00\n",
       "2882863   02:49:00\n",
       "2884127   03:05:00\n",
       "3209238   02:38:00\n",
       "3049181   02:11:00\n",
       "dtype: timedelta64[ns]"
      ]
     },
     "execution_count": 22,
     "metadata": {},
     "output_type": "execute_result"
    }
   ],
   "source": [
    "x.head()"
   ]
  },
  {
   "cell_type": "markdown",
   "metadata": {},
   "source": [
    "Actual Elapsed Time column needs to be equal to Arrival Time - Departure Time - TimeZoneDifference. The red data points above show flight records that does not satisfy this equation. So, we remove them. Note that it is hard to update timezone difference in this case because there is no systematic differences between x values, ArrTime - DepTime - TimeZoneDiff, vs y values, Actual Elapsed Time."
   ]
  },
  {
   "cell_type": "code",
   "execution_count": 23,
   "metadata": {},
   "outputs": [],
   "source": [
    "df.drop(x.index, inplace=True)"
   ]
  },
  {
   "cell_type": "code",
   "execution_count": 24,
   "metadata": {},
   "outputs": [
    {
     "name": "stdout",
     "output_type": "stream",
     "text": [
      "WeekDay column passed check\n",
      "IATA column passed check\n",
      "TailNum column passed check\n",
      "FlightNum column passed check\n",
      "OrgAirID column passed check\n",
      "OrgMarID column passed check\n",
      "DestAirID column passed check\n",
      "DestMarID column passed check\n",
      "ScDepTime column passed check\n",
      "***A flight(s) is/are scheduled later than ScArrTime***\n",
      "DepTime column passed check (1/2)\n",
      "DepTime column passed check (2/2)\n",
      "WhOff column passed check\n",
      "TxO column passed check (1/2)\n",
      "TxO column passed check (2/2)\n",
      "ScArrTime column passed check\n",
      "ArrTime column passed check (1/2)\n",
      "ArrTime column passed check (2/2)\n",
      "WhOn column passed check\n",
      "TxI column passed check (1/2)\n",
      "TxI column passed check (2/2)\n",
      "Cncl column passed check (1/2)\n",
      "Div column passed check (1/2)\n",
      "Cncl/Div columns passed check (2/2)\n",
      "CnclCd column passed check\n",
      "ScElaTime column passed check (1/2)\n",
      "ScElaTime column passed check (2/2)\n",
      "AcElaTime column passed check (1/2)\n",
      "AcElaTime column passed check (2/2)\n",
      "AirTime column passed check (1/2)\n",
      "AirTime column passed check (2/2)\n"
     ]
    }
   ],
   "source": [
    "integrity.check(df)"
   ]
  },
  {
   "cell_type": "markdown",
   "metadata": {},
   "source": [
    "As a last integrity check, the data passed all points except one point. But, we allowed that ScArrTime is earlier than SCDepTime due to short distance with 1 hour timezone difference."
   ]
  },
  {
   "cell_type": "code",
   "execution_count": 25,
   "metadata": {},
   "outputs": [
    {
     "data": {
      "text/plain": [
       "WeekDay              0\n",
       "IATA                 0\n",
       "TailNum              0\n",
       "FlightNum            0\n",
       "OrgAirID             0\n",
       "OrgMarID             0\n",
       "DestAirID            0\n",
       "DestMarID            0\n",
       "ScDepTime            0\n",
       "DepTime         102036\n",
       "DepDelay        102036\n",
       "TxO             102036\n",
       "WhOff           102036\n",
       "WhOn            119830\n",
       "TxI             119830\n",
       "ScArrTime            0\n",
       "ArrTime         119830\n",
       "ArrDelay        119830\n",
       "Cncl                 0\n",
       "CnclCd               0\n",
       "Div                  0\n",
       "ScElaTime            0\n",
       "AcElaTime       119830\n",
       "AirTime         119830\n",
       "Dist                 0\n",
       "CarrDel              0\n",
       "WeaDel               0\n",
       "NASDel               0\n",
       "SecDel               0\n",
       "LatAirDel            0\n",
       "TimeZoneDiff         0\n",
       "dtype: int64"
      ]
     },
     "execution_count": 25,
     "metadata": {},
     "output_type": "execute_result"
    }
   ],
   "source": [
    "df.isnull().sum()"
   ]
  },
  {
   "cell_type": "markdown",
   "metadata": {},
   "source": [
    "The number of null entries is consistent with the number of cancelled or diverted flights."
   ]
  },
  {
   "cell_type": "code",
   "execution_count": 28,
   "metadata": {},
   "outputs": [],
   "source": [
    "df.sort_values('ScDepTime', inplace=True) # Sort by ScDepTime"
   ]
  },
  {
   "cell_type": "code",
   "execution_count": 27,
   "metadata": {},
   "outputs": [
    {
     "name": "stdout",
     "output_type": "stream",
     "text": [
      "Number of deleted entries: 15945\n"
     ]
    }
   ],
   "source": [
    "rows_ = len(df)\n",
    "print('Number of deleted entries: {}'.format(rows-rows_))"
   ]
  },
  {
   "cell_type": "markdown",
   "metadata": {},
   "source": [
    "Number of deleted entries is relatively small compared to total number of rows."
   ]
  },
  {
   "cell_type": "code",
   "execution_count": 27,
   "metadata": {},
   "outputs": [
    {
     "name": "stdout",
     "output_type": "stream",
     "text": [
      "Downloading Progress of Weather Data\n"
     ]
    },
    {
     "name": "stderr",
     "output_type": "stream",
     "text": [
      "100% (356 of 356) |######################| Elapsed Time: 1:22:05 ETA:  00:00:00"
     ]
    },
    {
     "name": "stdout",
     "output_type": "stream",
     "text": [
      "\n",
      "Done!\n"
     ]
    }
   ],
   "source": [
    "df = weather.data(df, airport, icao, date_start, date_end)"
   ]
  }
 ],
 "metadata": {
  "kernelspec": {
   "display_name": "Python 3",
   "language": "python",
   "name": "python3"
  },
  "language_info": {
   "codemirror_mode": {
    "name": "ipython",
    "version": 3
   },
   "file_extension": ".py",
   "mimetype": "text/x-python",
   "name": "python",
   "nbconvert_exporter": "python",
   "pygments_lexer": "ipython3",
   "version": "3.7.6"
  }
 },
 "nbformat": 4,
 "nbformat_minor": 4
}
